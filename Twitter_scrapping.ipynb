{
  "nbformat": 4,
  "nbformat_minor": 0,
  "metadata": {
    "colab": {
      "provenance": [],
      "authorship_tag": "ABX9TyPx/95pIm/CRfr4wtUzBgPN",
      "include_colab_link": true
    },
    "kernelspec": {
      "name": "python3",
      "display_name": "Python 3"
    },
    "language_info": {
      "name": "python"
    }
  },
  "cells": [
    {
      "cell_type": "markdown",
      "metadata": {
        "id": "view-in-github",
        "colab_type": "text"
      },
      "source": [
        "<a href=\"https://colab.research.google.com/github/Devarajanmg/-Replace-the-digits-in-the-string-with-/blob/main/Twitter_scrapping.ipynb\" target=\"_parent\"><img src=\"https://colab.research.google.com/assets/colab-badge.svg\" alt=\"Open In Colab\"/></a>"
      ]
    },
    {
      "cell_type": "code",
      "execution_count": 17,
      "metadata": {
        "colab": {
          "base_uri": "https://localhost:8080/"
        },
        "id": "cs3vkoscIVZb",
        "outputId": "e4203407-178f-4154-ae15-41c36cc1c9bc"
      },
      "outputs": [
        {
          "output_type": "stream",
          "name": "stdout",
          "text": [
            "\u001b[?25l     \u001b[90m━━━━━━━━━━━━━━━━━━━━━━━━━━━━━━━━━━━━━━━━\u001b[0m \u001b[32m0.0/71.8 KB\u001b[0m \u001b[31m?\u001b[0m eta \u001b[36m-:--:--\u001b[0m\r\u001b[2K     \u001b[90m━━━━━━━━━━━━━━━━━━━━━━━━━━━━━━━━━━━━━━━━\u001b[0m \u001b[32m71.8/71.8 KB\u001b[0m \u001b[31m4.2 MB/s\u001b[0m eta \u001b[36m0:00:00\u001b[0m\n",
            "\u001b[?25h"
          ]
        }
      ],
      "source": [
        "!pip install -q snscrape"
      ]
    },
    {
      "cell_type": "code",
      "source": [
        "import os\n",
        "import pandas as pd\n",
        "from datetime import date"
      ],
      "metadata": {
        "id": "yYo6ZpDkIpL_"
      },
      "execution_count": 4,
      "outputs": []
    },
    {
      "cell_type": "code",
      "source": [
        "today = date.today()\n",
        "end_date = today\n",
        "print(end_date)"
      ],
      "metadata": {
        "colab": {
          "base_uri": "https://localhost:8080/"
        },
        "id": "B6dcZNwgI0uK",
        "outputId": "0729e03f-840f-4968-ec46-7d37012424b6"
      },
      "execution_count": 5,
      "outputs": [
        {
          "output_type": "stream",
          "name": "stdout",
          "text": [
            "2023-03-22\n"
          ]
        }
      ]
    },
    {
      "cell_type": "code",
      "source": [
        "search_term = 'elon musk'\n",
        "from_date = '2023-03-01'"
      ],
      "metadata": {
        "id": "otuOLUNmJEOK"
      },
      "execution_count": 13,
      "outputs": []
    },
    {
      "cell_type": "code",
      "source": [
        "os.system(f\"snscrape --since {from_date} twitter-search ' {search_term} until:{end_date}' > result-tweets.txt\")\n",
        "if os.stat(\"result-tweets.txt\").st_size == 0:\n",
        "    counter = 0 \n",
        "else:\n",
        "    df = pd.read_csv('result-tweets.txt', names=['link'])\n",
        "    counter = df.size\n",
        "\n",
        "print('Number of tweets: '+ str(counter))"
      ],
      "metadata": {
        "colab": {
          "base_uri": "https://localhost:8080/"
        },
        "id": "EiOgSyLpJ2rg",
        "outputId": "b72abb0f-59c9-4be0-9ef9-958b07707af8"
      },
      "execution_count": 18,
      "outputs": [
        {
          "output_type": "stream",
          "name": "stdout",
          "text": [
            "Number of tweets: 233\n"
          ]
        }
      ]
    },
    {
      "cell_type": "code",
      "source": [
        "max_results = 100"
      ],
      "metadata": {
        "id": "RIRk88p9NaNZ"
      },
      "execution_count": 15,
      "outputs": []
    },
    {
      "cell_type": "code",
      "source": [
        "extracted_tweets = \"snscrape --format '{content!r}'\"+ f\" --max-results {max_results} --since{from_date} twitter-search '{search_term} until:{end_date}' > extracted-tweets.txt\"\n",
        "os.system(extracted_tweets)\n",
        "if os.stat(\"extracted-tweets.txt\").st_size == 0:\n",
        "    print('No Tweets found')\n",
        "else:\n",
        "    df = pd.read_csv('extracted-tweets.txt', names=['content'])\n",
        "    for row in df['content'].iteritems():\n",
        "        print(row)"
      ],
      "metadata": {
        "colab": {
          "base_uri": "https://localhost:8080/"
        },
        "id": "JF7ug5AWNhCF",
        "outputId": "0150c068-1304-4ac1-962b-0b4d18c2a7b0"
      },
      "execution_count": 16,
      "outputs": [
        {
          "output_type": "stream",
          "name": "stdout",
          "text": [
            "No Tweets found\n"
          ]
        }
      ]
    },
    {
      "cell_type": "code",
      "source": [
        "user_name = \"devabeckham126\"\n",
        "user_tweets = \"snscrape --format '{content!r}'\"+ f\" --max-results {max_results} --since{from_date} twitter-search '{search_term} until:{end_date}' > user-tweets.txt\"\n",
        "os.system(user_tweets)\n",
        "if os.stat(\"user-tweets.txt\").st_size == 0:\n",
        "    print('No Tweets found')\n",
        "else:\n",
        "    df = pd.read_csv('user-tweets.txt', names=['content'])\n",
        "    for row in df['content'].iteritems():\n",
        "        print(row)"
      ],
      "metadata": {
        "colab": {
          "base_uri": "https://localhost:8080/"
        },
        "id": "tS9NgpJiYKIK",
        "outputId": "a2ce2293-8940-4e87-b022-6642e75619a8"
      },
      "execution_count": 19,
      "outputs": [
        {
          "output_type": "stream",
          "name": "stdout",
          "text": [
            "No Tweets found\n"
          ]
        }
      ]
    }
  ]
}